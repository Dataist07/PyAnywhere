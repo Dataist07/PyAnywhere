{
 "cells": [
  {
   "cell_type": "code",
   "execution_count": 16,
   "metadata": {},
   "outputs": [
    {
     "name": "stdout",
     "output_type": "stream",
     "text": [
      "connect succes\n",
      "import success auchan\n",
      "import success carrefour\n",
      "import success casino\n",
      "CSV data imported successfully into MySQL.\n"
     ]
    }
   ],
   "source": [
    "import mysql.connector as msql\n",
    "import csv\n",
    "\n",
    "user = 'minh'\n",
    "# Connect to the PostgreSQL database\n",
    "conn = msql.connect(\n",
    "   database='comparator',\n",
    "   user=user,\n",
    "   password='07970797',\n",
    "   host='database.cdjhn3xzznk3.eu-north-1.rds.amazonaws.com',\n",
    "   port='3306'\n",
    ")\n",
    "print('connect succes')\n",
    "\n",
    "# Create a cursor object\n",
    "conn.autocommit = True\n",
    "cursor = conn.cursor()\n",
    "\n",
    "#drop table product\n",
    "dropTable   = '''DROP TABLE supermarket;'''\n",
    "cursor.execute(dropTable)\n",
    "\n",
    "#create table product\n",
    "sql = '''CREATE TABLE supermarket(id int auto_increment, supermarket varchar(255), department varchar(255),\\\n",
    "nom_drive varchar(255),nom_driveUrl varchar(255),city varchar(255),adresse varchar(255),\\\n",
    "latitude decimal(13, 7),longitude decimal(13, 7),lien_drive varchar(255), dateScraped varchar(255),PRIMARY KEY (id));'''\n",
    "cursor.execute(sql)\n",
    "\n",
    "supermarkets= ['auchan','carrefour','casino']\n",
    "for supermarket in supermarkets:\n",
    "    path =f'/Users/minh/Desktop/Comparator/Scrap/Data_base/drivesScraped/list_drives_{supermarket}Scraped.csv'\n",
    "    \n",
    "    with open(path, 'r') as f:\n",
    "        reader = csv.DictReader(f, delimiter = ',')\n",
    "        for row in reader:\n",
    "            sql_statement = \"INSERT INTO supermarket(supermarket ,department,nom_drive,nom_driveUrl,city ,adresse,latitude,longitude,lien_drive, dateScraped) VALUES (%s,%s,%s,%s,%s,%s,%s,%s,%s,%s)\"\n",
    "            cursor.executemany(sql_statement,[(row['supermarket'], row['department'], row['nom_drive'], row['nom_driveUrl'], row['city'], row['adresse'], row['latitude'], row['longitude'], row['lien_drive'], row['date_scraped'])])\n",
    "    print(f'import success {supermarket}')\n",
    "\n",
    "\n",
    "conn.commit()\n",
    "conn.close()\n",
    "\n",
    "print(\"CSV data imported successfully into MySQL.\")"
   ]
  }
 ],
 "metadata": {
  "kernelspec": {
   "display_name": "venv",
   "language": "python",
   "name": "python3"
  },
  "language_info": {
   "codemirror_mode": {
    "name": "ipython",
    "version": 3
   },
   "file_extension": ".py",
   "mimetype": "text/x-python",
   "name": "python",
   "nbconvert_exporter": "python",
   "pygments_lexer": "ipython3",
   "version": "3.9.6"
  },
  "orig_nbformat": 4
 },
 "nbformat": 4,
 "nbformat_minor": 2
}

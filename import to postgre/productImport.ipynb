{
 "cells": [
  {
   "cell_type": "code",
   "execution_count": 1,
   "metadata": {},
   "outputs": [
    {
     "name": "stdout",
     "output_type": "stream",
     "text": [
      "connect succes\n"
     ]
    },
    {
     "ename": "KeyboardInterrupt",
     "evalue": "",
     "output_type": "error",
     "traceback": [
      "\u001b[0;31m---------------------------------------------------------------------------\u001b[0m",
      "\u001b[0;31mKeyboardInterrupt\u001b[0m                         Traceback (most recent call last)",
      "Cell \u001b[0;32mIn[1], line 52\u001b[0m\n\u001b[1;32m     50\u001b[0m         \u001b[39mfor\u001b[39;00m row \u001b[39min\u001b[39;00m reader:\n\u001b[1;32m     51\u001b[0m             sql_statement \u001b[39m=\u001b[39m \u001b[39m\"\u001b[39m\u001b[39mINSERT INTO product(supermarket ,nom_drive,nom_driveUrl,rayon_principal ,rayon_secondaire,nom_produit,prix_produit,prix_ratio, unite,lien_image) VALUES (\u001b[39m\u001b[39m%s\u001b[39;00m\u001b[39m,\u001b[39m\u001b[39m%s\u001b[39;00m\u001b[39m,\u001b[39m\u001b[39m%s\u001b[39;00m\u001b[39m,\u001b[39m\u001b[39m%s\u001b[39;00m\u001b[39m,\u001b[39m\u001b[39m%s\u001b[39;00m\u001b[39m,\u001b[39m\u001b[39m%s\u001b[39;00m\u001b[39m,\u001b[39m\u001b[39m%s\u001b[39;00m\u001b[39m,\u001b[39m\u001b[39m%s\u001b[39;00m\u001b[39m,\u001b[39m\u001b[39m%s\u001b[39;00m\u001b[39m,\u001b[39m\u001b[39m%s\u001b[39;00m\u001b[39m)\u001b[39m\u001b[39m\"\u001b[39m\n\u001b[0;32m---> 52\u001b[0m             cursor\u001b[39m.\u001b[39;49mexecutemany(sql_statement,[(row[\u001b[39m'\u001b[39;49m\u001b[39msupermarket\u001b[39;49m\u001b[39m'\u001b[39;49m], row[\u001b[39m'\u001b[39;49m\u001b[39mnom_drive\u001b[39;49m\u001b[39m'\u001b[39;49m], row[\u001b[39m'\u001b[39;49m\u001b[39mnom_driveUrl\u001b[39;49m\u001b[39m'\u001b[39;49m], row[\u001b[39m'\u001b[39;49m\u001b[39mrayon_principal\u001b[39;49m\u001b[39m'\u001b[39;49m], row[\u001b[39m'\u001b[39;49m\u001b[39mrayon_secondaire\u001b[39;49m\u001b[39m'\u001b[39;49m], row[\u001b[39m'\u001b[39;49m\u001b[39mnom_produit\u001b[39;49m\u001b[39m'\u001b[39;49m], row[\u001b[39m'\u001b[39;49m\u001b[39mprix_produit\u001b[39;49m\u001b[39m'\u001b[39;49m], row[\u001b[39m'\u001b[39;49m\u001b[39mprix_ratio\u001b[39;49m\u001b[39m'\u001b[39;49m], row[\u001b[39m'\u001b[39;49m\u001b[39munite\u001b[39;49m\u001b[39m'\u001b[39;49m], row[\u001b[39m'\u001b[39;49m\u001b[39mlien_image\u001b[39;49m\u001b[39m'\u001b[39;49m])])\n\u001b[1;32m     53\u001b[0m     \u001b[39mprint\u001b[39m(\u001b[39mf\u001b[39m\u001b[39m'\u001b[39m\u001b[39mimport succes \u001b[39m\u001b[39m{\u001b[39;00mnom_drive\u001b[39m}\u001b[39;00m\u001b[39m'\u001b[39m)\n\u001b[1;32m     55\u001b[0m conn\u001b[39m.\u001b[39mcommit()\n",
      "File \u001b[0;32m~/Desktop/Comparator/ComparatorApp-master/BackEndDj/venv/lib/python3.9/site-packages/mysql/connector/cursor_cext.py:455\u001b[0m, in \u001b[0;36mCMySQLCursor.executemany\u001b[0;34m(self, operation, seq_params)\u001b[0m\n\u001b[1;32m    453\u001b[0m     \u001b[39mif\u001b[39;00m stmt \u001b[39mis\u001b[39;00m \u001b[39mnot\u001b[39;00m \u001b[39mNone\u001b[39;00m:\n\u001b[1;32m    454\u001b[0m         \u001b[39mself\u001b[39m\u001b[39m.\u001b[39m_executed \u001b[39m=\u001b[39m stmt\n\u001b[0;32m--> 455\u001b[0m         \u001b[39mreturn\u001b[39;00m \u001b[39mself\u001b[39;49m\u001b[39m.\u001b[39;49mexecute(stmt)\n\u001b[1;32m    457\u001b[0m rowcnt \u001b[39m=\u001b[39m \u001b[39m0\u001b[39m\n\u001b[1;32m    458\u001b[0m \u001b[39mtry\u001b[39;00m:\n\u001b[1;32m    459\u001b[0m     \u001b[39m# When processing read ops (e.g., SELECT), rowcnt is updated\u001b[39;00m\n\u001b[1;32m    460\u001b[0m     \u001b[39m# based on self._rowcount. For write ops (e.g., INSERT) is\u001b[39;00m\n\u001b[1;32m    461\u001b[0m     \u001b[39m# updated based on self._affected_rows.\u001b[39;00m\n\u001b[1;32m    462\u001b[0m     \u001b[39m# The variable self._description is None for write ops, that's\u001b[39;00m\n\u001b[1;32m    463\u001b[0m     \u001b[39m# why we use it as indicator for updating rowcnt.\u001b[39;00m\n",
      "File \u001b[0;32m~/Desktop/Comparator/ComparatorApp-master/BackEndDj/venv/lib/python3.9/site-packages/mysql/connector/cursor_cext.py:330\u001b[0m, in \u001b[0;36mCMySQLCursor.execute\u001b[0;34m(self, operation, params, multi)\u001b[0m\n\u001b[1;32m    325\u001b[0m             \u001b[39mraise\u001b[39;00m ProgrammingError(\n\u001b[1;32m    326\u001b[0m                 \u001b[39m\"\u001b[39m\u001b[39mNot all parameters were used in the SQL statement\u001b[39m\u001b[39m\"\u001b[39m\n\u001b[1;32m    327\u001b[0m             )\n\u001b[1;32m    329\u001b[0m \u001b[39mtry\u001b[39;00m:\n\u001b[0;32m--> 330\u001b[0m     result \u001b[39m=\u001b[39m \u001b[39mself\u001b[39;49m\u001b[39m.\u001b[39;49m_cnx\u001b[39m.\u001b[39;49mcmd_query(\n\u001b[1;32m    331\u001b[0m         stmt,\n\u001b[1;32m    332\u001b[0m         raw\u001b[39m=\u001b[39;49m\u001b[39mself\u001b[39;49m\u001b[39m.\u001b[39;49m_raw,\n\u001b[1;32m    333\u001b[0m         buffered\u001b[39m=\u001b[39;49m\u001b[39mself\u001b[39;49m\u001b[39m.\u001b[39;49m_buffered,\n\u001b[1;32m    334\u001b[0m         raw_as_string\u001b[39m=\u001b[39;49m\u001b[39mself\u001b[39;49m\u001b[39m.\u001b[39;49m_raw_as_string,\n\u001b[1;32m    335\u001b[0m     )\n\u001b[1;32m    336\u001b[0m \u001b[39mexcept\u001b[39;00m MySQLInterfaceError \u001b[39mas\u001b[39;00m err:\n\u001b[1;32m    337\u001b[0m     \u001b[39mraise\u001b[39;00m get_mysql_exception(\n\u001b[1;32m    338\u001b[0m         msg\u001b[39m=\u001b[39merr\u001b[39m.\u001b[39mmsg, errno\u001b[39m=\u001b[39merr\u001b[39m.\u001b[39merrno, sqlstate\u001b[39m=\u001b[39merr\u001b[39m.\u001b[39msqlstate\n\u001b[1;32m    339\u001b[0m     ) \u001b[39mfrom\u001b[39;00m \u001b[39merr\u001b[39;00m\n",
      "File \u001b[0;32m~/Desktop/Comparator/ComparatorApp-master/BackEndDj/venv/lib/python3.9/site-packages/mysql/connector/opentelemetry/context_propagation.py:77\u001b[0m, in \u001b[0;36mwith_context_propagation.<locals>.wrapper\u001b[0;34m(cnx, *args, **kwargs)\u001b[0m\n\u001b[1;32m     75\u001b[0m \u001b[39m\u001b[39m\u001b[39m\"\"\"Context propagation decorator.\"\"\"\u001b[39;00m\n\u001b[1;32m     76\u001b[0m \u001b[39mif\u001b[39;00m \u001b[39mnot\u001b[39;00m OTEL_ENABLED \u001b[39mor\u001b[39;00m \u001b[39mnot\u001b[39;00m cnx\u001b[39m.\u001b[39motel_context_propagation:\n\u001b[0;32m---> 77\u001b[0m     \u001b[39mreturn\u001b[39;00m method(cnx, \u001b[39m*\u001b[39;49margs, \u001b[39m*\u001b[39;49m\u001b[39m*\u001b[39;49mkwargs)\n\u001b[1;32m     79\u001b[0m current_span \u001b[39m=\u001b[39m trace\u001b[39m.\u001b[39mget_current_span()\n\u001b[1;32m     80\u001b[0m tp_header \u001b[39m=\u001b[39m \u001b[39mNone\u001b[39;00m\n",
      "File \u001b[0;32m~/Desktop/Comparator/ComparatorApp-master/BackEndDj/venv/lib/python3.9/site-packages/mysql/connector/connection_cext.py:633\u001b[0m, in \u001b[0;36mCMySQLConnection.cmd_query\u001b[0;34m(self, query, raw, buffered, raw_as_string)\u001b[0m\n\u001b[1;32m    631\u001b[0m     \u001b[39mif\u001b[39;00m \u001b[39mnot\u001b[39;00m \u001b[39misinstance\u001b[39m(query, \u001b[39mbytes\u001b[39m):\n\u001b[1;32m    632\u001b[0m         query \u001b[39m=\u001b[39m query\u001b[39m.\u001b[39mencode(\u001b[39m\"\u001b[39m\u001b[39mutf-8\u001b[39m\u001b[39m\"\u001b[39m)\n\u001b[0;32m--> 633\u001b[0m     \u001b[39mself\u001b[39;49m\u001b[39m.\u001b[39;49m_cmysql\u001b[39m.\u001b[39;49mquery(\n\u001b[1;32m    634\u001b[0m         query,\n\u001b[1;32m    635\u001b[0m         raw\u001b[39m=\u001b[39;49mraw,\n\u001b[1;32m    636\u001b[0m         buffered\u001b[39m=\u001b[39;49mbuffered,\n\u001b[1;32m    637\u001b[0m         raw_as_string\u001b[39m=\u001b[39;49mraw_as_string,\n\u001b[1;32m    638\u001b[0m         query_attrs\u001b[39m=\u001b[39;49m\u001b[39mself\u001b[39;49m\u001b[39m.\u001b[39;49mquery_attrs,\n\u001b[1;32m    639\u001b[0m     )\n\u001b[1;32m    640\u001b[0m \u001b[39mexcept\u001b[39;00m MySQLInterfaceError \u001b[39mas\u001b[39;00m err:\n\u001b[1;32m    641\u001b[0m     \u001b[39mraise\u001b[39;00m get_mysql_exception(\n\u001b[1;32m    642\u001b[0m         err\u001b[39m.\u001b[39merrno, msg\u001b[39m=\u001b[39merr\u001b[39m.\u001b[39mmsg, sqlstate\u001b[39m=\u001b[39merr\u001b[39m.\u001b[39msqlstate\n\u001b[1;32m    643\u001b[0m     ) \u001b[39mfrom\u001b[39;00m \u001b[39merr\u001b[39;00m\n",
      "\u001b[0;31mKeyboardInterrupt\u001b[0m: "
     ]
    }
   ],
   "source": [
    "\n",
    "import mysql.connector as msql\n",
    "import csv\n",
    "import pandas as pd\n",
    "from bulk_update.helper import bulk_update\n",
    "\n",
    "user = 'minh'\n",
    "# Connect to the PostgreSQL database\n",
    "conn = msql.connect(\n",
    "   database='comparator',\n",
    "   user=user,\n",
    "   password='07970797',\n",
    "   host='database.cdjhn3xzznk3.eu-north-1.rds.amazonaws.com',\n",
    "   port='3306'\n",
    ")\n",
    "print('connect succes')\n",
    "\n",
    "# Create a cursor object\n",
    "conn.autocommit = True\n",
    "cursor = conn.cursor()\n",
    "\n",
    "#drop table product\n",
    "dropTable   = '''DROP TABLE product;'''\n",
    "cursor.execute(dropTable)\n",
    "\n",
    "#create table product\n",
    "sql = '''CREATE TABLE product(id int auto_increment,supermarket varchar(255),\\\n",
    "nom_drive varchar(255),nom_driveUrl varchar(255),rayon_principal varchar(255),rayon_secondaire varchar(255),\\\n",
    "nom_produit varchar(255),prix_produit decimal(10, 2),prix_ratio decimal(10, 2),unite varchar(50), lien_image varchar(255),PRIMARY KEY (id));'''\n",
    "cursor.execute(sql)\n",
    "\n",
    "\n",
    "#import all product\n",
    "dfList1 = pd.read_csv('/Users/minh/Desktop/Comparator/Scrap/Data_base/drivesScraped/list_drives_auchanScraped.csv')\n",
    "dfList2 = pd.read_csv('/Users/minh/Desktop/Comparator/Scrap/Data_base/drivesScraped/list_drives_carrefourScraped.csv')\n",
    "dfList3 = pd.read_csv('/Users/minh/Desktop/Comparator/Scrap/Data_base/drivesScraped/list_drives_casinoScraped.csv')\n",
    "\n",
    "frames = [dfList1, dfList2, dfList3]\n",
    "\n",
    "dfSupermarket= pd.concat(frames)\n",
    "for i,supermarket in enumerate(dfSupermarket['supermarket']):\n",
    "    department = dfSupermarket.iloc[i][\"department\"]\n",
    "    city = dfSupermarket.iloc[i][\"city\"]\n",
    "    dateScraped= dfSupermarket.iloc[i][\"date_scraped\"]\n",
    "    nom_drive = dfSupermarket.iloc[i][\"nom_drive\"]\n",
    "\n",
    "    path = f'/Users/minh/Desktop/Comparator/Scrap/Data_base/{department}/{city}/{nom_drive}/{dateScraped}/{supermarket}_produits.csv'\n",
    "    \n",
    "    with open(path, 'r') as f:\n",
    "        reader = csv.DictReader(f, delimiter = ',')\n",
    "        for row in reader:\n",
    "            sql_statement = \"INSERT INTO product(supermarket ,nom_drive,nom_driveUrl,rayon_principal ,rayon_secondaire,nom_produit,prix_produit,prix_ratio, unite,lien_image) VALUES (%s,%s,%s,%s,%s,%s,%s,%s,%s,%s)\"\n",
    "            cursor.executemany(sql_statement,[(row['supermarket'], row['nom_drive'], row['nom_driveUrl'], row['rayon_principal'], row['rayon_secondaire'], row['nom_produit'], row['prix_produit'], row['prix_ratio'], row['unite'], row['lien_image'])])\n",
    "    print(f'import succes {nom_drive}')\n",
    "\n",
    "conn.commit()\n",
    "conn.close()\n",
    "\n",
    "print(\"CSV data imported successfully into PostgreSQL.\")\n"
   ]
  }
 ],
 "metadata": {
  "kernelspec": {
   "display_name": "venv",
   "language": "python",
   "name": "python3"
  },
  "language_info": {
   "codemirror_mode": {
    "name": "ipython",
    "version": 3
   },
   "file_extension": ".py",
   "mimetype": "text/x-python",
   "name": "python",
   "nbconvert_exporter": "python",
   "pygments_lexer": "ipython3",
   "version": "3.9.6"
  },
  "orig_nbformat": 4
 },
 "nbformat": 4,
 "nbformat_minor": 2
}
